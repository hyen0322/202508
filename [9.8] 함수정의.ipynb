{
  "nbformat": 4,
  "nbformat_minor": 0,
  "metadata": {
    "colab": {
      "provenance": [],
      "authorship_tag": "ABX9TyPnZ6yz+1ar+SP9ddEZaUaW"
    },
    "kernelspec": {
      "name": "python3",
      "display_name": "Python 3"
    },
    "language_info": {
      "name": "python"
    }
  },
  "cells": [
    {
      "cell_type": "code",
      "source": [
        "import numpy as np\n",
        "import pandas as pd\n",
        "from google.colab import files\n",
        "from scipy.stats import lognorm"
      ],
      "metadata": {
        "id": "vZ-DHAn4LlQc"
      },
      "execution_count": 11,
      "outputs": []
    },
    {
      "cell_type": "code",
      "source": [
        "print(\"Upload '202501_clean2.xlsx'\")\n",
        "up = files.upload()\n",
        "INPUT = [k for k in up.keys() if k.lower().endswith(('.xlsx','.xls'))][0]\n",
        "df = pd.read_excel(INPUT)"
      ],
      "metadata": {
        "id": "KGm7niZaLurP",
        "outputId": "10b38399-97e0-4905-a857-1fb835d6c87e",
        "colab": {
          "base_uri": "https://localhost:8080/",
          "height": 96
        }
      },
      "execution_count": 12,
      "outputs": [
        {
          "output_type": "stream",
          "name": "stdout",
          "text": [
            "Upload '202501_clean2.xlsx'\n"
          ]
        },
        {
          "output_type": "display_data",
          "data": {
            "text/plain": [
              "<IPython.core.display.HTML object>"
            ],
            "text/html": [
              "\n",
              "     <input type=\"file\" id=\"files-d52ae53a-4f8c-467c-bd96-3037ada9c39d\" name=\"files[]\" multiple disabled\n",
              "        style=\"border:none\" />\n",
              "     <output id=\"result-d52ae53a-4f8c-467c-bd96-3037ada9c39d\">\n",
              "      Upload widget is only available when the cell has been executed in the\n",
              "      current browser session. Please rerun this cell to enable.\n",
              "      </output>\n",
              "      <script>// Copyright 2017 Google LLC\n",
              "//\n",
              "// Licensed under the Apache License, Version 2.0 (the \"License\");\n",
              "// you may not use this file except in compliance with the License.\n",
              "// You may obtain a copy of the License at\n",
              "//\n",
              "//      http://www.apache.org/licenses/LICENSE-2.0\n",
              "//\n",
              "// Unless required by applicable law or agreed to in writing, software\n",
              "// distributed under the License is distributed on an \"AS IS\" BASIS,\n",
              "// WITHOUT WARRANTIES OR CONDITIONS OF ANY KIND, either express or implied.\n",
              "// See the License for the specific language governing permissions and\n",
              "// limitations under the License.\n",
              "\n",
              "/**\n",
              " * @fileoverview Helpers for google.colab Python module.\n",
              " */\n",
              "(function(scope) {\n",
              "function span(text, styleAttributes = {}) {\n",
              "  const element = document.createElement('span');\n",
              "  element.textContent = text;\n",
              "  for (const key of Object.keys(styleAttributes)) {\n",
              "    element.style[key] = styleAttributes[key];\n",
              "  }\n",
              "  return element;\n",
              "}\n",
              "\n",
              "// Max number of bytes which will be uploaded at a time.\n",
              "const MAX_PAYLOAD_SIZE = 100 * 1024;\n",
              "\n",
              "function _uploadFiles(inputId, outputId) {\n",
              "  const steps = uploadFilesStep(inputId, outputId);\n",
              "  const outputElement = document.getElementById(outputId);\n",
              "  // Cache steps on the outputElement to make it available for the next call\n",
              "  // to uploadFilesContinue from Python.\n",
              "  outputElement.steps = steps;\n",
              "\n",
              "  return _uploadFilesContinue(outputId);\n",
              "}\n",
              "\n",
              "// This is roughly an async generator (not supported in the browser yet),\n",
              "// where there are multiple asynchronous steps and the Python side is going\n",
              "// to poll for completion of each step.\n",
              "// This uses a Promise to block the python side on completion of each step,\n",
              "// then passes the result of the previous step as the input to the next step.\n",
              "function _uploadFilesContinue(outputId) {\n",
              "  const outputElement = document.getElementById(outputId);\n",
              "  const steps = outputElement.steps;\n",
              "\n",
              "  const next = steps.next(outputElement.lastPromiseValue);\n",
              "  return Promise.resolve(next.value.promise).then((value) => {\n",
              "    // Cache the last promise value to make it available to the next\n",
              "    // step of the generator.\n",
              "    outputElement.lastPromiseValue = value;\n",
              "    return next.value.response;\n",
              "  });\n",
              "}\n",
              "\n",
              "/**\n",
              " * Generator function which is called between each async step of the upload\n",
              " * process.\n",
              " * @param {string} inputId Element ID of the input file picker element.\n",
              " * @param {string} outputId Element ID of the output display.\n",
              " * @return {!Iterable<!Object>} Iterable of next steps.\n",
              " */\n",
              "function* uploadFilesStep(inputId, outputId) {\n",
              "  const inputElement = document.getElementById(inputId);\n",
              "  inputElement.disabled = false;\n",
              "\n",
              "  const outputElement = document.getElementById(outputId);\n",
              "  outputElement.innerHTML = '';\n",
              "\n",
              "  const pickedPromise = new Promise((resolve) => {\n",
              "    inputElement.addEventListener('change', (e) => {\n",
              "      resolve(e.target.files);\n",
              "    });\n",
              "  });\n",
              "\n",
              "  const cancel = document.createElement('button');\n",
              "  inputElement.parentElement.appendChild(cancel);\n",
              "  cancel.textContent = 'Cancel upload';\n",
              "  const cancelPromise = new Promise((resolve) => {\n",
              "    cancel.onclick = () => {\n",
              "      resolve(null);\n",
              "    };\n",
              "  });\n",
              "\n",
              "  // Wait for the user to pick the files.\n",
              "  const files = yield {\n",
              "    promise: Promise.race([pickedPromise, cancelPromise]),\n",
              "    response: {\n",
              "      action: 'starting',\n",
              "    }\n",
              "  };\n",
              "\n",
              "  cancel.remove();\n",
              "\n",
              "  // Disable the input element since further picks are not allowed.\n",
              "  inputElement.disabled = true;\n",
              "\n",
              "  if (!files) {\n",
              "    return {\n",
              "      response: {\n",
              "        action: 'complete',\n",
              "      }\n",
              "    };\n",
              "  }\n",
              "\n",
              "  for (const file of files) {\n",
              "    const li = document.createElement('li');\n",
              "    li.append(span(file.name, {fontWeight: 'bold'}));\n",
              "    li.append(span(\n",
              "        `(${file.type || 'n/a'}) - ${file.size} bytes, ` +\n",
              "        `last modified: ${\n",
              "            file.lastModifiedDate ? file.lastModifiedDate.toLocaleDateString() :\n",
              "                                    'n/a'} - `));\n",
              "    const percent = span('0% done');\n",
              "    li.appendChild(percent);\n",
              "\n",
              "    outputElement.appendChild(li);\n",
              "\n",
              "    const fileDataPromise = new Promise((resolve) => {\n",
              "      const reader = new FileReader();\n",
              "      reader.onload = (e) => {\n",
              "        resolve(e.target.result);\n",
              "      };\n",
              "      reader.readAsArrayBuffer(file);\n",
              "    });\n",
              "    // Wait for the data to be ready.\n",
              "    let fileData = yield {\n",
              "      promise: fileDataPromise,\n",
              "      response: {\n",
              "        action: 'continue',\n",
              "      }\n",
              "    };\n",
              "\n",
              "    // Use a chunked sending to avoid message size limits. See b/62115660.\n",
              "    let position = 0;\n",
              "    do {\n",
              "      const length = Math.min(fileData.byteLength - position, MAX_PAYLOAD_SIZE);\n",
              "      const chunk = new Uint8Array(fileData, position, length);\n",
              "      position += length;\n",
              "\n",
              "      const base64 = btoa(String.fromCharCode.apply(null, chunk));\n",
              "      yield {\n",
              "        response: {\n",
              "          action: 'append',\n",
              "          file: file.name,\n",
              "          data: base64,\n",
              "        },\n",
              "      };\n",
              "\n",
              "      let percentDone = fileData.byteLength === 0 ?\n",
              "          100 :\n",
              "          Math.round((position / fileData.byteLength) * 100);\n",
              "      percent.textContent = `${percentDone}% done`;\n",
              "\n",
              "    } while (position < fileData.byteLength);\n",
              "  }\n",
              "\n",
              "  // All done.\n",
              "  yield {\n",
              "    response: {\n",
              "      action: 'complete',\n",
              "    }\n",
              "  };\n",
              "}\n",
              "\n",
              "scope.google = scope.google || {};\n",
              "scope.google.colab = scope.google.colab || {};\n",
              "scope.google.colab._files = {\n",
              "  _uploadFiles,\n",
              "  _uploadFilesContinue,\n",
              "};\n",
              "})(self);\n",
              "</script> "
            ]
          },
          "metadata": {}
        },
        {
          "output_type": "stream",
          "name": "stdout",
          "text": [
            "Saving 202501_clean2.xlsx to 202501_clean2 (1).xlsx\n"
          ]
        }
      ]
    },
    {
      "cell_type": "code",
      "source": [
        "# 컬럼 정의\n",
        "metals_ng = [\"Cr(ng/m3)\",\"Co(ng/m3)\",\"Ni(ng/m3)\",\n",
        "             \"As(ng/m3)\",\"Cd(ng/m3)\",\"Sb(ng/m3)\",\"Pb(ng/m3)\"]"
      ],
      "metadata": {
        "id": "ObIL4CgoMJSF"
      },
      "execution_count": 13,
      "outputs": []
    },
    {
      "cell_type": "code",
      "source": [
        "# 단위 변환 : ng/m3 -> ug/m3\n",
        "metals_ng = [\"Cr(ng/m3)\",\"Co(ng/m3)\",\"Ni(ng/m3)\",\"As(ng/m3)\",\"Cd(ng/m3)\",\"Sb(ng/m3)\",\"Pb(ng/m3)\"]\n",
        "for c in metals_ng:\n",
        "    ug = c.replace(\"(ng/m3)\",\"(ug/m3)\")\n",
        "    df[ug] = df[c] / 1000.0\n",
        "metals_ug = [c.replace(\"(ng/m3)\",\"(ug/m3)\") for c in metals_ng]"
      ],
      "metadata": {
        "id": "7gu5jM5YMJMM"
      },
      "execution_count": 14,
      "outputs": []
    },
    {
      "cell_type": "code",
      "source": [
        "# 흡입 단위 위해도(IUR) 설정\n",
        "IUR = {\n",
        "    \"As(ug/m3)\": 4.3e-3,   # IRIS\n",
        "    \"Cd(ug/m3)\": 1.8e-3,   # IRIS\n",
        "    \"Co(ug/m3)\": 9.0e-3,   # PPRTV\n",
        "    \"Cr(ug/m3)\": 1.2e-2,   # IRIS\n",
        "    \"Ni(ug/m3)\": 2.4e-4,   # IRIS\n",
        "    \"Pb(ug/m3)\": 1.2e-5,   # CalEPA\n",
        "    \"Sb(ug/m3)\": 2.29e-6  # CalEPA\n",
        "}"
      ],
      "metadata": {
        "id": "tD-nH0rYMwcd"
      },
      "execution_count": 15,
      "outputs": []
    },
    {
      "cell_type": "code",
      "source": [
        "# 초과 발암 위해도(ECR) 계산\n",
        "# -> ECR = C(ug/m3) * K * IUR\n",
        "def ecr_per_metal(C_ug_m3, K, iur):\n",
        "    return C_ug_m3 * K * iur\n",
        "\n",
        "def ecr_total_row(row, K):\n",
        "    total = 0.0\n",
        "    for m in metals_ug:\n",
        "        total += ecr_per_metal(row[m], K, IUR[m])\n",
        "    return total\n",
        "\n",
        "# 고정값(fixed) 계산\n",
        "# K_fixed = (AcT_out/1440) * (EF/365) * (ED/LT)\n",
        "# 표: AcT_out=76.2분/일, EF=350일/년, ED=30년, LT=70년\n",
        "ACT_OUT, EF, ED, LT = 76.2, 350, 30, 70\n",
        "K_fixed = (ACT_OUT/1440.0) * (EF/365.0) * (ED/float(LT))  # 0.021747\n",
        "\n",
        "# 금속별 초과 발암 위해도(ECR) 계산 + 총합\n",
        "# -> 그날 측정된 모든 금속 농도에 동시에 노출되었을 때의 초과 발암 위해도\n",
        "for m in metals_ug:\n",
        "    col = f\"ECR_{m.split('(')[0]}\"\n",
        "    df[col] = df[m] * K_fixed * IUR[m]\n",
        "df[\"ECR_total_fixed\"] = df.apply(lambda r: ecr_total_row(r, K_fixed), axis=1)\n",
        "\n",
        "# 요약\n",
        "summary_fixed = df[[f\"ECR_{m.split('(')[0]}\" for m in metals_ug] + [\"ECR_total_fixed\"]].describe()"
      ],
      "metadata": {
        "id": "diU7zEDrNKLD"
      },
      "execution_count": 16,
      "outputs": []
    },
    {
      "cell_type": "code",
      "source": [
        "# 분포기반 계산 (Table S2 참고)\n",
        "# 대상: AcT_out만 로그정규분포\n",
        "# preset은 Table S2의 5%, 95%를 사용\n",
        "\n",
        "# Table S2 성인 preset(5%/95%) 매핑: AcT_out(min/day)\n",
        "ADULT_ACT_PRESETS = {\"18-<25\": (14.455, 250.0),\n",
        "                     \"25-<35\": (6.516, 220.0),\n",
        "                     \"35-<45\": (5.789, 195.0),\n",
        "                     \"45-<55\": (6.401, 260.0),\n",
        "                     \"55-<65\": (8.083, 350.0),\n",
        "                     \"65-<78.6\": (6.094, 390.0)}\n",
        "\n",
        "def lognorm_params_from_q5q95(q5, q95):\n",
        "    # ln(q_p) = mu + sigma * z_p  (z_95≈1.64485, z_05≈-1.64485)\n",
        "    z = 1.6448536269514722\n",
        "    sigma = (np.log(q95) - np.log(q5)) / (2*z)\n",
        "    mu = np.log(q5) + z * sigma\n",
        "    return sigma, np.exp(mu)"
      ],
      "metadata": {
        "id": "1c-SeO1tNj4V"
      },
      "execution_count": 17,
      "outputs": []
    },
    {
      "cell_type": "code",
      "source": [
        "# 시나리오 설정\n",
        "preset = \"25-<35\"   # typical adult 시나리오 (원하면 \"65-<78.6\" 등으로 교체)\n",
        "N = 10000           # Monte Carlo 샘플 수\n",
        "ED_mode = \"fixed\"   # \"fixed\"=30년 유지 / \"by_age\"=Table S2 성인구간별 ED 적용\n",
        "\n",
        "q5, q95 = ADULT_ACT_PRESETS[preset]\n",
        "s, scale = lognorm_params_from_q5q95(q5, q95)\n",
        "rng = np.random.default_rng(42)\n",
        "ACT_samples = lognorm(s=s, scale=scale).rvs(size=N, random_state=42)"
      ],
      "metadata": {
        "id": "1I4zNMgfQOhY"
      },
      "execution_count": 18,
      "outputs": []
    },
    {
      "cell_type": "code",
      "source": [
        "# ED(노출기간((년))) 선택\n",
        "ED_BY_AGE = {\"18-<25\": 7.0, \"25-<35\": 10.0, \"35-<45\": 10.0,\n",
        "             \"45-<55\": 10.0, \"55-<65\": 10.0, \"65-<78.6\": 13.6}\n",
        "ED_used = ED_BY_AGE[preset] if ED_mode == \"by_age\" else ED\n",
        "\n",
        "# 샘플별 K_dist 계산\n",
        "K_dist = (ACT_samples/1440.0) * (EF/365.0) * (ED_used/float(LT))"
      ],
      "metadata": {
        "id": "xL5jPNwmQPAY"
      },
      "execution_count": 19,
      "outputs": []
    },
    {
      "cell_type": "code",
      "source": [
        "# 총 초과 발암 위해도(ECR) 분포 계산 (K의 불확실성 반영)\n",
        "C_mean = df[metals_ug].mean().to_dict()\n",
        "def ecr_total_with_K(C_dict, K_array):\n",
        "    # K_array: (N,), 반환: (N,)\n",
        "    total = np.zeros_like(K_array, dtype=float)\n",
        "    for m in metals_ug:\n",
        "        total += C_dict[m] * K_array * IUR[m]\n",
        "    return total\n",
        "\n",
        "E_total_dist = ecr_total_with_K(C_mean, K_dist)"
      ],
      "metadata": {
        "id": "qdA5QlnjQQgf"
      },
      "execution_count": 20,
      "outputs": []
    },
    {
      "cell_type": "code",
      "source": [
        "# 분포 요약\n",
        "summary_dist = {\"preset\": preset,\n",
        "                \"ED_mode\": ED_mode,\n",
        "                \"N\": N,\n",
        "                \"K_mean\": float(np.mean(K_dist)),\n",
        "                \"K_p05\": float(np.percentile(K_dist,5)),\n",
        "                \"K_p95\": float(np.percentile(K_dist,95)),\n",
        "                \"ECR_total_mean\": float(np.mean(E_total_dist)),\n",
        "                \"ECR_total_median\": float(np.median(E_total_dist)),\n",
        "                \"ECR_total_p05\": float(np.percentile(E_total_dist,5)),\n",
        "                \"ECR_total_p95\": float(np.percentile(E_total_dist,95)),\n",
        "                \"ECR_total_max\": float(np.max(E_total_dist)),\n",
        "                \"P(ECR_total>=1e-6)\": float(np.mean(E_total_dist >= 1e-6))}"
      ],
      "metadata": {
        "id": "wFKaOfKcQRv9"
      },
      "execution_count": 21,
      "outputs": []
    },
    {
      "cell_type": "code",
      "source": [
        "# 저장\n",
        "df.to_excel(\"ECR_results_fixed_rowwise.xlsx\", index=False)\n",
        "pd.DataFrame(summary_fixed).to_excel(\"ECR_summary_fixed_describe.xlsx\")\n",
        "pd.DataFrame([summary_dist]).to_excel(\"ECR_summary_dist_total.xlsx\", index=False)\n",
        "\n",
        "print(\"저장 완료:\")\n",
        "print(\" - ECR_results_fixed_rowwise.xlsx (행별 고정값 결과)\")\n",
        "print(\" - ECR_summary_fixed_describe.xlsx (고정값 기술통계)\")\n",
        "print(\" - ECR_summary_dist_total.xlsx (Table S2 분포 시나리오 요약)\")\n",
        "\n",
        "# 결과 출력\n",
        "print(\"\\n[고정값 요약 통계 (상위 10행)]\")\n",
        "print(pd.DataFrame(summary_fixed).head(10))\n",
        "print(\"\\n[분포 시나리오 요약]\")\n",
        "print(summary_dist)"
      ],
      "metadata": {
        "id": "DfrykK0TQTRR",
        "outputId": "6f6939be-b06e-42a3-f024-aa92244b3408",
        "colab": {
          "base_uri": "https://localhost:8080/"
        }
      },
      "execution_count": 22,
      "outputs": [
        {
          "output_type": "stream",
          "name": "stdout",
          "text": [
            "저장 완료:\n",
            " - ECR_results_fixed_rowwise.xlsx (행별 고정값 결과)\n",
            " - ECR_summary_fixed_describe.xlsx (고정값 기술통계)\n",
            " - ECR_summary_dist_total.xlsx (Table S2 분포 시나리오 요약)\n",
            "\n",
            "[고정값 요약 통계 (상위 10행)]\n",
            "             ECR_Cr        ECR_Co        ECR_Ni  ECR_As      ECR_Cd  \\\n",
            "count  3.520000e+02  4.490000e+02  3.260000e+02   449.0  449.000000   \n",
            "mean   7.748181e-07  1.535607e-06  1.552641e-08     0.0    0.000008   \n",
            "std    4.219507e-07  7.614202e-07  9.408741e-09     0.0    0.000002   \n",
            "min    7.828767e-09  3.346798e-07  0.000000e+00     0.0    0.000004   \n",
            "25%    4.514589e-07  9.551096e-07  8.102774e-09     0.0    0.000007   \n",
            "50%    7.854863e-07  1.481594e-06  1.377863e-08     0.0    0.000008   \n",
            "75%    1.064060e-06  2.053094e-06  2.199884e-08     0.0    0.000010   \n",
            "max    1.894562e-06  3.798909e-06  4.086616e-08     0.0    0.000014   \n",
            "\n",
            "             ECR_Sb        ECR_Pb  ECR_total_fixed  \n",
            "count  2.320000e+02  3.950000e+02       186.000000  \n",
            "mean   8.605166e-10  2.332920e-09         0.000012  \n",
            "std    6.342097e-10  2.115567e-09         0.000002  \n",
            "min    1.991986e-12  0.000000e+00         0.000008  \n",
            "25%    3.244448e-10  7.515616e-10         0.000011  \n",
            "50%    8.022725e-10  1.711890e-09         0.000013  \n",
            "75%    1.260305e-09  3.042781e-09         0.000014  \n",
            "max    2.689680e-09  8.144527e-09         0.000017  \n",
            "\n",
            "[분포 시나리오 요약]\n",
            "{'preset': '25-<35', 'ED_mode': 'fixed', 'N': 10000, 'K_mean': 0.019211589501083703, 'K_p05': 0.0018397919581101764, 'K_p95': 0.06264144993710946, 'ECR_total_mean': 9.4542503231909e-06, 'ECR_total_median': 5.302686211573153e-06, 'ECR_total_p05': 9.053833735925902e-07, 'ECR_total_p95': 3.082659809484564e-05, 'ECR_total_max': 0.00035471836336979016, 'P(ECR_total>=1e-6)': 0.9408}\n"
          ]
        }
      ]
    }
  ]
}