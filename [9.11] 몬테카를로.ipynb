{
  "nbformat": 4,
  "nbformat_minor": 0,
  "metadata": {
    "colab": {
      "provenance": [],
      "authorship_tag": "ABX9TyMJPHiA0U0pPSRb6HVCJ/zI"
    },
    "kernelspec": {
      "name": "python3",
      "display_name": "Python 3"
    },
    "language_info": {
      "name": "python"
    }
  },
  "cells": [
    {
      "cell_type": "code",
      "source": [
        "# 전처리"
      ],
      "metadata": {
        "id": "Thp2MLSOPSB7"
      },
      "execution_count": null,
      "outputs": []
    },
    {
      "cell_type": "code",
      "source": [
        "# Colab 업로드\n",
        "from google.colab import files\n",
        "import os\n",
        "import pandas as pd\n",
        "import numpy as np\n",
        "\n",
        "print(\"'202501_clean2.xlsx' 업로드 해주세요\")\n",
        "uploaded = files.upload()\n",
        "print(\"현재 디렉토리:\", os.listdir())\n",
        "\n",
        "# 1. 데이터 로드\n",
        "INPUT_XLSX = \"202501_clean2.xlsx\"\n",
        "raw = pd.read_excel(INPUT_XLSX)\n",
        "\n",
        "print(\"원본데이터 shape:\", raw.shape)\n",
        "\n",
        "\n",
        "# 2. 금속 컬럼 탐색\n",
        "import re\n",
        "\n",
        "patterns = {\"Cr\": r\"(?i)\\bCr\\b(?!\\(VI\\))\",\n",
        "            \"Co\": r\"(?i)\\bCo\\b|Cobalt\",\n",
        "            \"Ni\": r\"(?i)\\bNi\\b|Nickel\",\n",
        "            \"As\": r\"(?i)\\bAs\\b|Arsenic\",\n",
        "            \"Cd\": r\"(?i)\\bCd\\b|Cadmium\",\n",
        "            \"Sb\": r\"(?i)\\bSb\\b|Antimony\",\n",
        "            \"Pb\": r\"(?i)\\bPb\\b|Lead\"}\n",
        "\n",
        "metal_map = {}\n",
        "for metal, pat in patterns.items():\n",
        "    cand = [c for c in raw.columns if re.search(pat, str(c))]\n",
        "    if cand:\n",
        "        metal_map[metal] = cand[0]\n",
        "\n",
        "print(\"인식된 금속 컬럼:\", metal_map)\n",
        "\n",
        "# 3. 단위 변환 (ng/m³ → µg/m³)\n",
        "for m, col in metal_map.items():\n",
        "    raw[col] = pd.to_numeric(raw[col], errors=\"coerce\") / 1000.0\n",
        "\n",
        "print(\"단위 변환 완료 (ng → µg)\")\n",
        "\n",
        "# 4. Cr(VI) 생성\n",
        "if \"Cr\" in metal_map:\n",
        "    raw[\"Cr(VI)\"] = raw[metal_map[\"Cr\"]] / 7.0\n",
        "    metal_map[\"Cr(VI)\"] = \"Cr(VI)\"\n",
        "    print(\"Cr(VI) 컬럼 생성 완료\")\n",
        "\n",
        "# 5. 결측치 처리\n",
        "raw = raw.dropna(how=\"all\")  # 행 전체가 NaN이면 제거\n",
        "print(\"결측치 제거 후 shape:\", raw.shape)\n",
        "\n",
        "# 6. 극단값 제거 (5–95% 트리밍)\n",
        "trimmed = {}\n",
        "for m, col in metal_map.items():\n",
        "    series = raw[col].dropna()\n",
        "    ql, qh = series.quantile(0.05), series.quantile(0.95)\n",
        "    trimmed[m] = series[(series >= ql) & (series <= qh)]\n",
        "\n",
        "# 7. 트리밍 결과 저장\n",
        "OUTDIR = \"preprocessed\"; os.makedirs(OUTDIR, exist_ok=True)\n",
        "\n",
        "with pd.ExcelWriter(os.path.join(OUTDIR, \"preprocessed_data.xlsx\")) as writer:\n",
        "    for m, s in trimmed.items():\n",
        "        s.to_excel(writer, sheet_name=m, index=False)\n",
        "\n",
        "print(\"전처리 완료: preprocessed/preprocessed_data.xlsx 저장됨\")\n"
      ],
      "metadata": {
        "id": "EsT4Fgv8PSR9",
        "outputId": "13db13ef-c7db-4ada-a4c8-af12a7d7a324",
        "colab": {
          "base_uri": "https://localhost:8080/",
          "height": 245
        }
      },
      "execution_count": 25,
      "outputs": [
        {
          "output_type": "stream",
          "name": "stdout",
          "text": [
            "'202501_clean2.xlsx' 업로드 해주세요\n"
          ]
        },
        {
          "output_type": "display_data",
          "data": {
            "text/plain": [
              "<IPython.core.display.HTML object>"
            ],
            "text/html": [
              "\n",
              "     <input type=\"file\" id=\"files-ca20d991-1b4c-48f8-b221-3b239ee521ec\" name=\"files[]\" multiple disabled\n",
              "        style=\"border:none\" />\n",
              "     <output id=\"result-ca20d991-1b4c-48f8-b221-3b239ee521ec\">\n",
              "      Upload widget is only available when the cell has been executed in the\n",
              "      current browser session. Please rerun this cell to enable.\n",
              "      </output>\n",
              "      <script>// Copyright 2017 Google LLC\n",
              "//\n",
              "// Licensed under the Apache License, Version 2.0 (the \"License\");\n",
              "// you may not use this file except in compliance with the License.\n",
              "// You may obtain a copy of the License at\n",
              "//\n",
              "//      http://www.apache.org/licenses/LICENSE-2.0\n",
              "//\n",
              "// Unless required by applicable law or agreed to in writing, software\n",
              "// distributed under the License is distributed on an \"AS IS\" BASIS,\n",
              "// WITHOUT WARRANTIES OR CONDITIONS OF ANY KIND, either express or implied.\n",
              "// See the License for the specific language governing permissions and\n",
              "// limitations under the License.\n",
              "\n",
              "/**\n",
              " * @fileoverview Helpers for google.colab Python module.\n",
              " */\n",
              "(function(scope) {\n",
              "function span(text, styleAttributes = {}) {\n",
              "  const element = document.createElement('span');\n",
              "  element.textContent = text;\n",
              "  for (const key of Object.keys(styleAttributes)) {\n",
              "    element.style[key] = styleAttributes[key];\n",
              "  }\n",
              "  return element;\n",
              "}\n",
              "\n",
              "// Max number of bytes which will be uploaded at a time.\n",
              "const MAX_PAYLOAD_SIZE = 100 * 1024;\n",
              "\n",
              "function _uploadFiles(inputId, outputId) {\n",
              "  const steps = uploadFilesStep(inputId, outputId);\n",
              "  const outputElement = document.getElementById(outputId);\n",
              "  // Cache steps on the outputElement to make it available for the next call\n",
              "  // to uploadFilesContinue from Python.\n",
              "  outputElement.steps = steps;\n",
              "\n",
              "  return _uploadFilesContinue(outputId);\n",
              "}\n",
              "\n",
              "// This is roughly an async generator (not supported in the browser yet),\n",
              "// where there are multiple asynchronous steps and the Python side is going\n",
              "// to poll for completion of each step.\n",
              "// This uses a Promise to block the python side on completion of each step,\n",
              "// then passes the result of the previous step as the input to the next step.\n",
              "function _uploadFilesContinue(outputId) {\n",
              "  const outputElement = document.getElementById(outputId);\n",
              "  const steps = outputElement.steps;\n",
              "\n",
              "  const next = steps.next(outputElement.lastPromiseValue);\n",
              "  return Promise.resolve(next.value.promise).then((value) => {\n",
              "    // Cache the last promise value to make it available to the next\n",
              "    // step of the generator.\n",
              "    outputElement.lastPromiseValue = value;\n",
              "    return next.value.response;\n",
              "  });\n",
              "}\n",
              "\n",
              "/**\n",
              " * Generator function which is called between each async step of the upload\n",
              " * process.\n",
              " * @param {string} inputId Element ID of the input file picker element.\n",
              " * @param {string} outputId Element ID of the output display.\n",
              " * @return {!Iterable<!Object>} Iterable of next steps.\n",
              " */\n",
              "function* uploadFilesStep(inputId, outputId) {\n",
              "  const inputElement = document.getElementById(inputId);\n",
              "  inputElement.disabled = false;\n",
              "\n",
              "  const outputElement = document.getElementById(outputId);\n",
              "  outputElement.innerHTML = '';\n",
              "\n",
              "  const pickedPromise = new Promise((resolve) => {\n",
              "    inputElement.addEventListener('change', (e) => {\n",
              "      resolve(e.target.files);\n",
              "    });\n",
              "  });\n",
              "\n",
              "  const cancel = document.createElement('button');\n",
              "  inputElement.parentElement.appendChild(cancel);\n",
              "  cancel.textContent = 'Cancel upload';\n",
              "  const cancelPromise = new Promise((resolve) => {\n",
              "    cancel.onclick = () => {\n",
              "      resolve(null);\n",
              "    };\n",
              "  });\n",
              "\n",
              "  // Wait for the user to pick the files.\n",
              "  const files = yield {\n",
              "    promise: Promise.race([pickedPromise, cancelPromise]),\n",
              "    response: {\n",
              "      action: 'starting',\n",
              "    }\n",
              "  };\n",
              "\n",
              "  cancel.remove();\n",
              "\n",
              "  // Disable the input element since further picks are not allowed.\n",
              "  inputElement.disabled = true;\n",
              "\n",
              "  if (!files) {\n",
              "    return {\n",
              "      response: {\n",
              "        action: 'complete',\n",
              "      }\n",
              "    };\n",
              "  }\n",
              "\n",
              "  for (const file of files) {\n",
              "    const li = document.createElement('li');\n",
              "    li.append(span(file.name, {fontWeight: 'bold'}));\n",
              "    li.append(span(\n",
              "        `(${file.type || 'n/a'}) - ${file.size} bytes, ` +\n",
              "        `last modified: ${\n",
              "            file.lastModifiedDate ? file.lastModifiedDate.toLocaleDateString() :\n",
              "                                    'n/a'} - `));\n",
              "    const percent = span('0% done');\n",
              "    li.appendChild(percent);\n",
              "\n",
              "    outputElement.appendChild(li);\n",
              "\n",
              "    const fileDataPromise = new Promise((resolve) => {\n",
              "      const reader = new FileReader();\n",
              "      reader.onload = (e) => {\n",
              "        resolve(e.target.result);\n",
              "      };\n",
              "      reader.readAsArrayBuffer(file);\n",
              "    });\n",
              "    // Wait for the data to be ready.\n",
              "    let fileData = yield {\n",
              "      promise: fileDataPromise,\n",
              "      response: {\n",
              "        action: 'continue',\n",
              "      }\n",
              "    };\n",
              "\n",
              "    // Use a chunked sending to avoid message size limits. See b/62115660.\n",
              "    let position = 0;\n",
              "    do {\n",
              "      const length = Math.min(fileData.byteLength - position, MAX_PAYLOAD_SIZE);\n",
              "      const chunk = new Uint8Array(fileData, position, length);\n",
              "      position += length;\n",
              "\n",
              "      const base64 = btoa(String.fromCharCode.apply(null, chunk));\n",
              "      yield {\n",
              "        response: {\n",
              "          action: 'append',\n",
              "          file: file.name,\n",
              "          data: base64,\n",
              "        },\n",
              "      };\n",
              "\n",
              "      let percentDone = fileData.byteLength === 0 ?\n",
              "          100 :\n",
              "          Math.round((position / fileData.byteLength) * 100);\n",
              "      percent.textContent = `${percentDone}% done`;\n",
              "\n",
              "    } while (position < fileData.byteLength);\n",
              "  }\n",
              "\n",
              "  // All done.\n",
              "  yield {\n",
              "    response: {\n",
              "      action: 'complete',\n",
              "    }\n",
              "  };\n",
              "}\n",
              "\n",
              "scope.google = scope.google || {};\n",
              "scope.google.colab = scope.google.colab || {};\n",
              "scope.google.colab._files = {\n",
              "  _uploadFiles,\n",
              "  _uploadFilesContinue,\n",
              "};\n",
              "})(self);\n",
              "</script> "
            ]
          },
          "metadata": {}
        },
        {
          "output_type": "stream",
          "name": "stdout",
          "text": [
            "Saving 202501_clean2.xlsx to 202501_clean2 (6).xlsx\n",
            "현재 디렉토리: ['.config', 'preprocessed', '202501_clean2 (5).xlsx', '202501_clean2 (2).xlsx', '202501_clean2 (6).xlsx', 'mc_outputs', '202501_clean2 (4).xlsx', 'fit_outputs', '202501_clean2 (3).xlsx', 'Tx-적합도.xlsx', '202501_clean2 (1).xlsx', '202501_clean2.xlsx', 'sample_data']\n",
            "원본데이터 shape: (461, 11)\n",
            "인식된 금속 컬럼: {'Cr': 'Cr(ng/m3)', 'Co': 'Co(ng/m3)', 'Ni': 'Ni(ng/m3)', 'As': 'As(ng/m3)', 'Cd': 'Cd(ng/m3)', 'Sb': 'Sb(ng/m3)', 'Pb': 'Pb(ng/m3)'}\n",
            "단위 변환 완료 (ng → µg)\n",
            "Cr(VI) 컬럼 생성 완료\n",
            "결측치 제거 후 shape: (461, 12)\n",
            "전처리 완료: preprocessed/preprocessed_data.xlsx 저장됨\n"
          ]
        }
      ]
    },
    {
      "cell_type": "code",
      "source": [
        "# 최적 분포 피팅"
      ],
      "metadata": {
        "id": "MPjBfHBiYqrx"
      },
      "execution_count": null,
      "outputs": []
    },
    {
      "cell_type": "code",
      "source": [],
      "metadata": {
        "id": "IbtVfaeh6sFK"
      },
      "execution_count": null,
      "outputs": []
    },
    {
      "cell_type": "code",
      "source": [
        "# 난수 만개 생성"
      ],
      "metadata": {
        "id": "gQYJHM2nYueF"
      },
      "execution_count": null,
      "outputs": []
    },
    {
      "cell_type": "code",
      "source": [],
      "metadata": {
        "id": "HPdZkz0QY5Q9"
      },
      "execution_count": null,
      "outputs": []
    },
    {
      "cell_type": "code",
      "source": [
        "# LADD/LECR 계산"
      ],
      "metadata": {
        "id": "d1tCaWeRYwwX"
      },
      "execution_count": null,
      "outputs": []
    },
    {
      "cell_type": "code",
      "source": [],
      "metadata": {
        "id": "eXTCD6EDjgCI"
      },
      "execution_count": null,
      "outputs": []
    },
    {
      "cell_type": "code",
      "source": [
        "# 최종 Cumulative LECR 계산"
      ],
      "metadata": {
        "id": "XUkUQDf8jgM8"
      },
      "execution_count": null,
      "outputs": []
    }
  ]
}