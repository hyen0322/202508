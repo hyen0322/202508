{
  "nbformat": 4,
  "nbformat_minor": 0,
  "metadata": {
    "colab": {
      "provenance": [],
      "authorship_tag": "ABX9TyN/sRO0DxURt9eZJmP5+BWj"
    },
    "kernelspec": {
      "name": "python3",
      "display_name": "Python 3"
    },
    "language_info": {
      "name": "python"
    }
  },
  "cells": [
    {
      "cell_type": "code",
      "execution_count": 2,
      "metadata": {
        "id": "tcODuWwKYsdz"
      },
      "outputs": [],
      "source": [
        "import pandas as pd\n",
        "import numpy as np\n",
        "import matplotlib.pyplot as plt\n",
        "import io\n",
        "import os\n",
        "from google.colab import files"
      ]
    },
    {
      "cell_type": "code",
      "source": [
        "pd.options.display.float_format = \"{:.6g}\".format"
      ],
      "metadata": {
        "id": "XKtuep_709-4"
      },
      "execution_count": 35,
      "outputs": []
    },
    {
      "cell_type": "code",
      "source": [
        "uploaded = files.upload()\n",
        "uploaded_paths = list(uploaded.keys())\n",
        "print(\"Uploaded files:\", uploaded_paths)"
      ],
      "metadata": {
        "colab": {
          "base_uri": "https://localhost:8080/",
          "height": 96
        },
        "id": "82SkGwlP0-zx",
        "outputId": "74f60026-b514-4b7c-90e6-4d669dafc8ba"
      },
      "execution_count": 70,
      "outputs": [
        {
          "output_type": "display_data",
          "data": {
            "text/plain": [
              "<IPython.core.display.HTML object>"
            ],
            "text/html": [
              "\n",
              "     <input type=\"file\" id=\"files-79238114-72b4-43d0-9c5b-6a4528bab8c5\" name=\"files[]\" multiple disabled\n",
              "        style=\"border:none\" />\n",
              "     <output id=\"result-79238114-72b4-43d0-9c5b-6a4528bab8c5\">\n",
              "      Upload widget is only available when the cell has been executed in the\n",
              "      current browser session. Please rerun this cell to enable.\n",
              "      </output>\n",
              "      <script>// Copyright 2017 Google LLC\n",
              "//\n",
              "// Licensed under the Apache License, Version 2.0 (the \"License\");\n",
              "// you may not use this file except in compliance with the License.\n",
              "// You may obtain a copy of the License at\n",
              "//\n",
              "//      http://www.apache.org/licenses/LICENSE-2.0\n",
              "//\n",
              "// Unless required by applicable law or agreed to in writing, software\n",
              "// distributed under the License is distributed on an \"AS IS\" BASIS,\n",
              "// WITHOUT WARRANTIES OR CONDITIONS OF ANY KIND, either express or implied.\n",
              "// See the License for the specific language governing permissions and\n",
              "// limitations under the License.\n",
              "\n",
              "/**\n",
              " * @fileoverview Helpers for google.colab Python module.\n",
              " */\n",
              "(function(scope) {\n",
              "function span(text, styleAttributes = {}) {\n",
              "  const element = document.createElement('span');\n",
              "  element.textContent = text;\n",
              "  for (const key of Object.keys(styleAttributes)) {\n",
              "    element.style[key] = styleAttributes[key];\n",
              "  }\n",
              "  return element;\n",
              "}\n",
              "\n",
              "// Max number of bytes which will be uploaded at a time.\n",
              "const MAX_PAYLOAD_SIZE = 100 * 1024;\n",
              "\n",
              "function _uploadFiles(inputId, outputId) {\n",
              "  const steps = uploadFilesStep(inputId, outputId);\n",
              "  const outputElement = document.getElementById(outputId);\n",
              "  // Cache steps on the outputElement to make it available for the next call\n",
              "  // to uploadFilesContinue from Python.\n",
              "  outputElement.steps = steps;\n",
              "\n",
              "  return _uploadFilesContinue(outputId);\n",
              "}\n",
              "\n",
              "// This is roughly an async generator (not supported in the browser yet),\n",
              "// where there are multiple asynchronous steps and the Python side is going\n",
              "// to poll for completion of each step.\n",
              "// This uses a Promise to block the python side on completion of each step,\n",
              "// then passes the result of the previous step as the input to the next step.\n",
              "function _uploadFilesContinue(outputId) {\n",
              "  const outputElement = document.getElementById(outputId);\n",
              "  const steps = outputElement.steps;\n",
              "\n",
              "  const next = steps.next(outputElement.lastPromiseValue);\n",
              "  return Promise.resolve(next.value.promise).then((value) => {\n",
              "    // Cache the last promise value to make it available to the next\n",
              "    // step of the generator.\n",
              "    outputElement.lastPromiseValue = value;\n",
              "    return next.value.response;\n",
              "  });\n",
              "}\n",
              "\n",
              "/**\n",
              " * Generator function which is called between each async step of the upload\n",
              " * process.\n",
              " * @param {string} inputId Element ID of the input file picker element.\n",
              " * @param {string} outputId Element ID of the output display.\n",
              " * @return {!Iterable<!Object>} Iterable of next steps.\n",
              " */\n",
              "function* uploadFilesStep(inputId, outputId) {\n",
              "  const inputElement = document.getElementById(inputId);\n",
              "  inputElement.disabled = false;\n",
              "\n",
              "  const outputElement = document.getElementById(outputId);\n",
              "  outputElement.innerHTML = '';\n",
              "\n",
              "  const pickedPromise = new Promise((resolve) => {\n",
              "    inputElement.addEventListener('change', (e) => {\n",
              "      resolve(e.target.files);\n",
              "    });\n",
              "  });\n",
              "\n",
              "  const cancel = document.createElement('button');\n",
              "  inputElement.parentElement.appendChild(cancel);\n",
              "  cancel.textContent = 'Cancel upload';\n",
              "  const cancelPromise = new Promise((resolve) => {\n",
              "    cancel.onclick = () => {\n",
              "      resolve(null);\n",
              "    };\n",
              "  });\n",
              "\n",
              "  // Wait for the user to pick the files.\n",
              "  const files = yield {\n",
              "    promise: Promise.race([pickedPromise, cancelPromise]),\n",
              "    response: {\n",
              "      action: 'starting',\n",
              "    }\n",
              "  };\n",
              "\n",
              "  cancel.remove();\n",
              "\n",
              "  // Disable the input element since further picks are not allowed.\n",
              "  inputElement.disabled = true;\n",
              "\n",
              "  if (!files) {\n",
              "    return {\n",
              "      response: {\n",
              "        action: 'complete',\n",
              "      }\n",
              "    };\n",
              "  }\n",
              "\n",
              "  for (const file of files) {\n",
              "    const li = document.createElement('li');\n",
              "    li.append(span(file.name, {fontWeight: 'bold'}));\n",
              "    li.append(span(\n",
              "        `(${file.type || 'n/a'}) - ${file.size} bytes, ` +\n",
              "        `last modified: ${\n",
              "            file.lastModifiedDate ? file.lastModifiedDate.toLocaleDateString() :\n",
              "                                    'n/a'} - `));\n",
              "    const percent = span('0% done');\n",
              "    li.appendChild(percent);\n",
              "\n",
              "    outputElement.appendChild(li);\n",
              "\n",
              "    const fileDataPromise = new Promise((resolve) => {\n",
              "      const reader = new FileReader();\n",
              "      reader.onload = (e) => {\n",
              "        resolve(e.target.result);\n",
              "      };\n",
              "      reader.readAsArrayBuffer(file);\n",
              "    });\n",
              "    // Wait for the data to be ready.\n",
              "    let fileData = yield {\n",
              "      promise: fileDataPromise,\n",
              "      response: {\n",
              "        action: 'continue',\n",
              "      }\n",
              "    };\n",
              "\n",
              "    // Use a chunked sending to avoid message size limits. See b/62115660.\n",
              "    let position = 0;\n",
              "    do {\n",
              "      const length = Math.min(fileData.byteLength - position, MAX_PAYLOAD_SIZE);\n",
              "      const chunk = new Uint8Array(fileData, position, length);\n",
              "      position += length;\n",
              "\n",
              "      const base64 = btoa(String.fromCharCode.apply(null, chunk));\n",
              "      yield {\n",
              "        response: {\n",
              "          action: 'append',\n",
              "          file: file.name,\n",
              "          data: base64,\n",
              "        },\n",
              "      };\n",
              "\n",
              "      let percentDone = fileData.byteLength === 0 ?\n",
              "          100 :\n",
              "          Math.round((position / fileData.byteLength) * 100);\n",
              "      percent.textContent = `${percentDone}% done`;\n",
              "\n",
              "    } while (position < fileData.byteLength);\n",
              "  }\n",
              "\n",
              "  // All done.\n",
              "  yield {\n",
              "    response: {\n",
              "      action: 'complete',\n",
              "    }\n",
              "  };\n",
              "}\n",
              "\n",
              "scope.google = scope.google || {};\n",
              "scope.google.colab = scope.google.colab || {};\n",
              "scope.google.colab._files = {\n",
              "  _uploadFiles,\n",
              "  _uploadFilesContinue,\n",
              "};\n",
              "})(self);\n",
              "</script> "
            ]
          },
          "metadata": {}
        },
        {
          "output_type": "stream",
          "name": "stdout",
          "text": [
            "Saving 202501_기준금속.xlsx to 202501_기준금속 (1).xlsx\n",
            "Uploaded files: ['202501_기준금속 (1).xlsx']\n"
          ]
        }
      ]
    },
    {
      "cell_type": "code",
      "source": [
        "# 자동 검출된 컬럼명 확인 후 True 반영\n",
        "CONFIRM_DETECTED_COLUMNS = True\n",
        "\n",
        "# 전처리 옵션\n",
        "NEGATIVE_TO_NAN = True   # 음수값을 NaN으로 처리\n",
        "\n",
        "# 시각화 및 리포트 파일명\n",
        "RAW_REPORT_PATH   = \"Step1_QA_Report_raw.xlsx\"    # 전처리 전 QA 리포트\n",
        "CLEAN_REPORT_PATH = \"Step1_QA_Report_clean.xlsx\"  # 전처리 후 QA 리포트\n",
        "CLEAN_DATA_PATH   = \"Cleaned_dataset.xlsx\"        # 전처리 후 데이터(엑셀)\n",
        "CLEAN_DATA_CSV    = \"Cleaned_dataset.csv\"         # 전처리 후 데이터(CSV)"
      ],
      "metadata": {
        "id": "Wq1YeNtq1XeB"
      },
      "execution_count": 82,
      "outputs": []
    },
    {
      "cell_type": "code",
      "source": [
        "# 컬럼 자동검출 함수\n",
        "def detect_columns(df: pd.DataFrame):\n",
        "    # 공백 제거\n",
        "    df = df.copy()\n",
        "    df.columns = [str(c).strip() for c in df.columns]\n",
        "\n",
        "    # 시간 컬럼\n",
        "    time_candidates = [c for c in df.columns\n",
        "                       if any(k in c.lower() for k in [\"pump-begin\", \"date\", \"datetime\", \"time\", \"측정일시\"])]\n",
        "    time_col = time_candidates[0] if len(time_candidates) > 0 else None\n",
        "\n",
        "    # PM2.5 컬럼\n",
        "    pm25_candidates = [c for c in df.columns\n",
        "                       if (\"pm2.5\" in c.lower())\n",
        "                       or (\"con(ug/m3)\" in c.lower())\n",
        "                       or (\"ug/m3\" in c.lower() and \"con\" in c.lower())]\n",
        "    pm25_col = pm25_candidates[0] if len(pm25_candidates) > 0 else None\n",
        "\n",
        "    # 금속 단위 패턴\n",
        "    metal_markers = [\"(ng/m3)\", \"(ng/㎥)\", \"ng/m3\", \"ng/㎥\"]\n",
        "    metal_cols = [c for c in df.columns if any(m.lower() in c.lower() for m in metal_markers)]\n",
        "\n",
        "    # 숫자형 후보\n",
        "    numeric_cols = []\n",
        "    for c in df.columns:\n",
        "        ser = pd.to_numeric(df[c], errors=\"coerce\")\n",
        "        if ser.notna().mean() >= 0.7:\n",
        "            numeric_cols.append(c)\n",
        "\n",
        "    return {\n",
        "        \"time_col\": time_col,\n",
        "        \"pm25_col\": pm25_col,\n",
        "        \"metal_cols\": metal_cols,\n",
        "        \"numeric_cols\": numeric_cols}"
      ],
      "metadata": {
        "id": "lMtSW6_q3npY"
      },
      "execution_count": 83,
      "outputs": []
    },
    {
      "cell_type": "code",
      "source": [
        "# 컬럼 자동 검출 및 확인게이트\n",
        "path = uploaded_paths[0]\n",
        "\n",
        "df_raw = pd.read_excel(path)\n",
        "df_raw.columns = [str(c).strip() for c in df_raw.columns]\n",
        "\n",
        "# 자동 검출\n",
        "detected = detect_columns(df_raw)\n",
        "print(\"Detected time_col:\", detected[\"time_col\"])\n",
        "print(\"Detected pm25_col:\", detected[\"pm25_col\"])\n",
        "print(\"Detected metal_cols (first 10):\", detected[\"metal_cols\"][:10])\n",
        "print(\"Detected numeric_cols (first 10):\", detected[\"numeric_cols\"][:10])\n",
        "\n",
        "# 자동 검출 컬럼 확인\n",
        "if not CONFIRM_DETECTED_COLUMNS:\n",
        "    raise RuntimeError(\n",
        "        \"자동 검출된 컬럼 확인 후 맞다면 CONFIRM_DETECTED_COLUMNS=True로 변경 후 이 셀부터 다시 실행\")\n",
        "\n",
        "# 시간 컬럼 파싱\n",
        "time_col = detected[\"time_col\"]\n",
        "pm25_col = detected[\"pm25_col\"]\n",
        "metal_cols = detected[\"metal_cols\"]\n",
        "numeric_cols = detected[\"numeric_cols\"]\n",
        "\n",
        "if time_col is not None:\n",
        "    df_raw[time_col] = pd.to_datetime(df_raw[time_col], errors=\"coerce\")"
      ],
      "metadata": {
        "colab": {
          "base_uri": "https://localhost:8080/"
        },
        "id": "c9t95FAV3-jW",
        "outputId": "f2a3dd49-a3fb-4169-9d87-4add3c795308"
      },
      "execution_count": 84,
      "outputs": [
        {
          "output_type": "stream",
          "name": "stdout",
          "text": [
            "Detected time_col: Pump-Begin\n",
            "Detected pm25_col: Conc(ug/m3)\n",
            "Detected metal_cols (first 10): ['Cr(ng/m3)', 'Co(ng/m3)', 'Ni(ng/m3)', 'As(ng/m3)', 'Cd(ng/m3)', 'Sb(ng/m3)', 'Pb(ng/m3)']\n",
            "Detected numeric_cols (first 10): ['Pump-Begin', 'Pump-End', 'MassResetTime', 'Conc(ug/m3)', 'Cr(ng/m3)', 'Co(ng/m3)', 'Ni(ng/m3)', 'As(ng/m3)', 'Cd(ng/m3)', 'Sb(ng/m3)']\n"
          ]
        }
      ]
    },
    {
      "cell_type": "code",
      "source": [
        "# 전처리 전 설정\n",
        "NEGATIVE_TO_NAN   = True   # 음수값을 NaN으로 치환\n",
        "DROP_EMPTY_TARGET = True   # 대상 컬럼이 모두 NaN인 행 제거\n",
        "APPLY_IQR_FILTER  = False   # IQR 기반 이상치 제거 적용\n",
        "IQR_K             = 1.5    # IQR 배수(1.5 기본, 완화 2.0~3.0)"
      ],
      "metadata": {
        "id": "ga1CZcapCiKx"
      },
      "execution_count": 85,
      "outputs": []
    },
    {
      "cell_type": "code",
      "source": [
        "# 전제 조건\n",
        "assert \"df_raw\" in globals(), \"df_raw가 필요합니다.\"\n",
        "\n",
        "# 대상 컬럼 정의 (PM2.5 + 금속)\n",
        "target_cols = []\n",
        "if \"pm25_col\" in globals() and pm25_col:\n",
        "    target_cols.append(pm25_col)\n",
        "if \"metal_cols\" in globals() and isinstance(metal_cols, (list, tuple)):\n",
        "    target_cols += list(metal_cols)\n",
        "\n",
        "# 실제 존재하는 컬럼만 남기기\n",
        "target_cols = [c for c in target_cols if c in df_raw.columns]\n",
        "if len(target_cols) == 0:\n",
        "    raise ValueError(\"대상 컬럼을 찾지 못했습니다.\")\n",
        "\n",
        "# 복사본 생성\n",
        "df_clean = df_raw.copy()"
      ],
      "metadata": {
        "id": "-PA82XN6DecJ"
      },
      "execution_count": 86,
      "outputs": []
    },
    {
      "cell_type": "code",
      "source": [
        "# 대상 컬럼을 숫자로 변환한 프레임 준비\n",
        "num_targets = df_clean[target_cols].apply(pd.to_numeric, errors=\"coerce\")\n",
        "\n",
        "# 음수값 NaN 처리\n",
        "neg_before = (num_targets < 0).sum().sum()\n",
        "if NEGATIVE_TO_NAN:\n",
        "    df_clean[target_cols] = num_targets.mask(num_targets < 0, np.nan)\n",
        "else:\n",
        "    df_clean[target_cols] = num_targets\n",
        "\n",
        "# 대상 컬럼이 전부 NaN인 행 제거\n",
        "rows_before_drop_empty = len(df_clean)\n",
        "if DROP_EMPTY_TARGET:\n",
        "    df_clean = df_clean.dropna(subset=target_cols, how=\"all\").reset_index(drop=True)\n",
        "rows_dropped_empty = rows_before_drop_empty - len(df_clean)\n",
        "\n",
        "rows_dropped_iqr = 0"
      ],
      "metadata": {
        "id": "LPpd_YtsDpuV"
      },
      "execution_count": 87,
      "outputs": []
    },
    {
      "cell_type": "code",
      "source": [
        "# 시간 컬럼 정렬\n",
        "if \"time_col\" in globals() and time_col in df_clean.columns:\n",
        "    df_clean[time_col] = pd.to_datetime(df_clean[time_col], errors=\"coerce\")\n",
        "    df_clean = df_clean.sort_values(time_col).reset_index(drop=True)\n",
        "\n",
        "# 음수 잔존 여부 확인\n",
        "neg_after = (df_clean[target_cols].apply(pd.to_numeric, errors=\"coerce\") < 0).sum().sum()\n",
        "\n",
        "print(\"=== Cleaning Summary ===\")\n",
        "print(f\"Target columns (n={len(target_cols)}): {target_cols[:6]}{' ...' if len(target_cols)>6 else ''}\")\n",
        "print(f\"Negatives (before -> after): {int(neg_before)} -> {int(neg_after)}\")\n",
        "print(f\"IQR dropped rows (k={IQR_K}): {rows_dropped_iqr}\")\n",
        "print(f\"Empty-target dropped rows: {rows_dropped_empty}\")\n",
        "print(f\"Shape: raw {df_raw.shape} -> clean {df_clean.shape}\")"
      ],
      "metadata": {
        "colab": {
          "base_uri": "https://localhost:8080/"
        },
        "id": "UfNKq-5YEqTB",
        "outputId": "bd63911b-d8f0-4703-d977-1004e8246b33"
      },
      "execution_count": 88,
      "outputs": [
        {
          "output_type": "stream",
          "name": "stdout",
          "text": [
            "=== Cleaning Summary ===\n",
            "Target columns (n=8): ['Conc(ug/m3)', 'Cr(ng/m3)', 'Co(ng/m3)', 'Ni(ng/m3)', 'As(ng/m3)', 'Cd(ng/m3)'] ...\n",
            "Negatives (before -> after): 518 -> 0\n",
            "IQR dropped rows (k=1.5): 0\n",
            "Empty-target dropped rows: 1\n",
            "Shape: raw (517, 11) -> clean (516, 11)\n"
          ]
        }
      ]
    },
    {
      "cell_type": "code",
      "source": [
        "# 전처리 데이터 저장\n",
        "\n",
        "df_clean.to_excel(\"202501_clean.xlsx\", index=False)\n",
        "\n",
        "files.download(\"202501_clean.xlsx\")"
      ],
      "metadata": {
        "id": "xsGfPfnFQtZV",
        "outputId": "46405f0c-754e-459a-b175-a09d4e87f851",
        "colab": {
          "base_uri": "https://localhost:8080/",
          "height": 17
        }
      },
      "execution_count": 90,
      "outputs": [
        {
          "output_type": "display_data",
          "data": {
            "text/plain": [
              "<IPython.core.display.Javascript object>"
            ],
            "application/javascript": [
              "\n",
              "    async function download(id, filename, size) {\n",
              "      if (!google.colab.kernel.accessAllowed) {\n",
              "        return;\n",
              "      }\n",
              "      const div = document.createElement('div');\n",
              "      const label = document.createElement('label');\n",
              "      label.textContent = `Downloading \"${filename}\": `;\n",
              "      div.appendChild(label);\n",
              "      const progress = document.createElement('progress');\n",
              "      progress.max = size;\n",
              "      div.appendChild(progress);\n",
              "      document.body.appendChild(div);\n",
              "\n",
              "      const buffers = [];\n",
              "      let downloaded = 0;\n",
              "\n",
              "      const channel = await google.colab.kernel.comms.open(id);\n",
              "      // Send a message to notify the kernel that we're ready.\n",
              "      channel.send({})\n",
              "\n",
              "      for await (const message of channel.messages) {\n",
              "        // Send a message to notify the kernel that we're ready.\n",
              "        channel.send({})\n",
              "        if (message.buffers) {\n",
              "          for (const buffer of message.buffers) {\n",
              "            buffers.push(buffer);\n",
              "            downloaded += buffer.byteLength;\n",
              "            progress.value = downloaded;\n",
              "          }\n",
              "        }\n",
              "      }\n",
              "      const blob = new Blob(buffers, {type: 'application/binary'});\n",
              "      const a = document.createElement('a');\n",
              "      a.href = window.URL.createObjectURL(blob);\n",
              "      a.download = filename;\n",
              "      div.appendChild(a);\n",
              "      a.click();\n",
              "      div.remove();\n",
              "    }\n",
              "  "
            ]
          },
          "metadata": {}
        },
        {
          "output_type": "display_data",
          "data": {
            "text/plain": [
              "<IPython.core.display.Javascript object>"
            ],
            "application/javascript": [
              "download(\"download_4ce66ab3-8f16-4be9-80e3-215511a70f6a\", \"202501_clean.xlsx\", 34482)"
            ]
          },
          "metadata": {}
        }
      ]
    }
  ]
}